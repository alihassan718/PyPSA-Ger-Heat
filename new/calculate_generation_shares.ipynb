{
 "cells": [
  {
   "cell_type": "code",
   "execution_count": 12,
   "id": "5ca25c8e",
   "metadata": {},
   "outputs": [],
   "source": [
    "import pypsa\n",
    "import pandas as pd"
   ]
  },
  {
   "cell_type": "code",
   "execution_count": 3,
   "id": "da3e1725",
   "metadata": {},
   "outputs": [
    {
     "name": "stderr",
     "output_type": "stream",
     "text": [
      "INFO:pypsa.io:Imported network 2020.nc has buses, carriers, generators, global_constraints, lines, links, loads, storage_units, stores\n"
     ]
    }
   ],
   "source": [
    "n = pypsa.Network(\"D:/project_h2/Results/4/2020.nc\")"
   ]
  },
  {
   "cell_type": "code",
   "execution_count": 4,
   "id": "e2abce9c",
   "metadata": {},
   "outputs": [
    {
     "name": "stdout",
     "output_type": "stream",
     "text": [
      "Generator energy supply shares:\n",
      "carrier\n",
      "H2              0.0 %\n",
      "biomass        5.83 %\n",
      "coal           4.46 %\n",
      "gas           49.74 %\n",
      "lignite        9.33 %\n",
      "load            0.0 %\n",
      "offwind-ac     1.07 %\n",
      "offwind-dc     1.42 %\n",
      "oil            0.02 %\n",
      "onwind        17.38 %\n",
      "ror            1.88 %\n",
      "solar          8.86 %\n",
      "dtype: object\n"
     ]
    }
   ],
   "source": [
    "# Sum energy output of all generators over time\n",
    "gen_energy = n.generators_t.p.sum()\n",
    "\n",
    "# Group by generator carrier and sum energy\n",
    "gen_energy_by_carrier = gen_energy.groupby(n.generators.carrier).sum()\n",
    "\n",
    "# Convert to percentage\n",
    "gen_shares = (gen_energy_by_carrier / gen_energy_by_carrier.sum()) * 100\n",
    "\n",
    "# Print rounded results\n",
    "print(\"Generator energy supply shares:\")\n",
    "print(gen_shares.round(2).astype(str) + ' %')\n"
   ]
  },
  {
   "cell_type": "markdown",
   "id": "91a9ff4d",
   "metadata": {},
   "source": [
    "Total heat distribution"
   ]
  },
  {
   "cell_type": "code",
   "execution_count": 10,
   "id": "36d1104c",
   "metadata": {},
   "outputs": [
    {
     "name": "stdout",
     "output_type": "stream",
     "text": [
      "\n",
      "Heating supply shares by technology:\n",
      "carrier\n",
      "AC         58.32 %\n",
      "CCGT       10.11 %\n",
      "biomass      0.0 %\n",
      "gas        31.57 %\n",
      "oil          0.0 %\n",
      "dtype: object\n"
     ]
    }
   ],
   "source": [
    "heating_links = []\n",
    "\n",
    "for link_name, row in n.links.iterrows():\n",
    "    if isinstance(row.get(\"bus1\", \"\"), str) and \"heat\" in row[\"bus1\"]:\n",
    "        heating_links.append(link_name)\n",
    "    if isinstance(row.get(\"bus2\", \"\"), str) and \"heat\" in row[\"bus2\"]:\n",
    "        heating_links.append(link_name)\n",
    "\n",
    "heating_links_df = n.links.loc[heating_links]\n",
    "# Sum heat delivered by carrier (not per link)\n",
    "p_by_carrier = heating_links_df.groupby(\"carrier\").apply(\n",
    "    lambda x: sum([\n",
    "        -n.links_t.p1[link].sum() if 'heat' in n.links.loc[link, 'bus1']\n",
    "        else -n.links_t.p2[link].sum()\n",
    "        for link in x.index\n",
    "    ])\n",
    ").astype(float)\n",
    "\n",
    "# Normalize to percentage\n",
    "supply_share = 100 * p_by_carrier / p_by_carrier.sum()\n",
    "print(\"\\nHeating supply shares by technology:\")\n",
    "print(supply_share.round(2).astype(str) + \" %\")\n"
   ]
  },
  {
   "cell_type": "code",
   "execution_count": 13,
   "id": "b005c42d",
   "metadata": {},
   "outputs": [
    {
     "name": "stdout",
     "output_type": "stream",
     "text": [
      "Heating supply shares by link:\n",
      "DE0 2 CCGT           3.32 %\n",
      "DE0 A CCGT           6.79 %\n",
      "DE0 9 heat_pump     14.29 %\n",
      "DE0 A heat_pump     14.94 %\n",
      "DE0 2 heat_pump     15.08 %\n",
      "DE0 E heat_pump     13.99 %\n",
      "DE0 9 gas_boiler     3.99 %\n",
      "DE0 A gas_boiler     13.4 %\n",
      "DE0 2 gas_boiler    10.78 %\n",
      "DE0 E gas_boiler      3.4 %\n",
      "dtype: object\n"
     ]
    }
   ],
   "source": [
    "heating_links = []\n",
    "\n",
    "for link_name, row in n.links.iterrows():\n",
    "    if isinstance(row.get(\"bus1\", \"\"), str) and \"heat\" in row[\"bus1\"]:\n",
    "        heating_links.append(link_name)\n",
    "    if isinstance(row.get(\"bus2\", \"\"), str) and \"heat\" in row[\"bus2\"]:\n",
    "        heating_links.append(link_name)\n",
    "\n",
    "p_by_link = {}\n",
    "\n",
    "for link in heating_links:\n",
    "    if \"bus1\" in n.links.columns and \"heat\" in n.links.at[link, \"bus1\"]:\n",
    "        p_by_link[link] = -n.links_t.p1[link].sum()\n",
    "    elif \"bus2\" in n.links.columns and \"heat\" in n.links.at[link, \"bus2\"]:\n",
    "        p_by_link[link] = -n.links_t.p2[link].sum()\n",
    "\n",
    "p_by_link = pd.Series(p_by_link)\n",
    "p_by_link = p_by_link[(p_by_link / p_by_link.sum()) > 0.01]\n",
    "\n",
    "\n",
    "print(\"Heating supply shares by link:\")\n",
    "print((p_by_link / p_by_link.sum() * 100).round(2).astype(str) + ' %')\n"
   ]
  },
  {
   "cell_type": "markdown",
   "id": "18d4d7b6",
   "metadata": {},
   "source": [
    "total heat demand supplied per bus"
   ]
  },
  {
   "cell_type": "code",
   "execution_count": 18,
   "id": "7a106ce0",
   "metadata": {},
   "outputs": [],
   "source": [
    "# Initialize an empty series for accumulating heat supply\n",
    "heat_supply_total = pd.Series(dtype=float)\n",
    "\n",
    "# 1. Links where heat is delivered at bus1 (majority of heating techs)\n",
    "bus1_heat_links = n.links[n.links.bus1.str.contains(\"heat\", case=False, na=False)]\n",
    "heat_by_bus1 = -n.links_t.p1[bus1_heat_links.index].sum()\n",
    "bus1_map = bus1_heat_links[\"bus1\"]\n",
    "heat_by_bus1_grouped = heat_by_bus1.groupby(bus1_map).sum()\n",
    "\n",
    "# 2. Links where heat is delivered at bus2 (e.g., CHP like CCGT)\n",
    "bus2_heat_links = n.links[n.links.bus2.str.contains(\"heat\", case=False, na=False)]\n",
    "heat_by_bus2 = n.links_t.p2[bus2_heat_links.index].sum()\n",
    "bus2_map = bus2_heat_links[\"bus2\"]\n",
    "heat_by_bus2_grouped = heat_by_bus2.groupby(bus2_map).sum()\n",
    "\n",
    "# Combine both\n",
    "heat_supply_total = heat_by_bus1_grouped.add(heat_by_bus2_grouped, fill_value=0)\n",
    "\n",
    "# Display sorted\n",
    "heat_supply_total = heat_supply_total.sort_values(ascending=False)\n",
    "heat_supply_total.name = \"Total Heat Supplied (MWh)\""
   ]
  },
  {
   "cell_type": "code",
   "execution_count": 19,
   "id": "fca3ef42",
   "metadata": {},
   "outputs": [
    {
     "data": {
      "text/plain": [
       "bus1\n",
       "DE0 2 heat    1.710921e+08\n",
       "DE0 A heat    1.636153e+08\n",
       "DE0 9 heat    1.387469e+08\n",
       "DE0 E heat    1.320231e+08\n",
       "Name: Total Heat Supplied (MWh), dtype: float64"
      ]
     },
     "execution_count": 19,
     "metadata": {},
     "output_type": "execute_result"
    }
   ],
   "source": [
    "heat_supply_total"
   ]
  },
  {
   "cell_type": "code",
   "execution_count": null,
   "id": "ac1ebfd5",
   "metadata": {},
   "outputs": [],
   "source": []
  }
 ],
 "metadata": {
  "kernelspec": {
   "display_name": "mypypsa",
   "language": "python",
   "name": "python3"
  },
  "language_info": {
   "codemirror_mode": {
    "name": "ipython",
    "version": 3
   },
   "file_extension": ".py",
   "mimetype": "text/x-python",
   "name": "python",
   "nbconvert_exporter": "python",
   "pygments_lexer": "ipython3",
   "version": "3.10.11"
  }
 },
 "nbformat": 4,
 "nbformat_minor": 5
}
