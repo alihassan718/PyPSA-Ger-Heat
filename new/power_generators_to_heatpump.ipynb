{
 "cells": [
  {
   "cell_type": "code",
   "execution_count": null,
   "id": "175b0c06",
   "metadata": {},
   "outputs": [],
   "source": [
    "# Get all heat pumps (air/ground source)\n",
    "hp_links = n.links[n.links.carrier.str.contains(\"heat_pump\")]\n",
    "\n",
    "# Find their actual power consumption in MWh over time\n",
    "hp_electricity_usage = n.links_t.p0[hp_links.index]\n",
    "# Get all generators and their output\n",
    "gen_output = n.generators_t.p\n",
    "\n",
    "# Map each generator to its bus\n",
    "gen_buses = n.generators.bus\n",
    "\n",
    "# Loop over each region (or bus) and see what powered the heat pumps\n",
    "for bus in n.buses.index:\n",
    "    hp_names = [name for name in hp_links.index if name.startswith(bus)]\n",
    "    if not hp_names:\n",
    "        continue\n",
    "\n",
    "    # Total electricity for heat pumps in this bus\n",
    "    total_hp_input = hp_electricity_usage[hp_names].sum(axis=1)\n",
    "\n",
    "    # All generators on this bus\n",
    "    gen_names = gen_buses[gen_buses == bus].index\n",
    "    gen_contrib = gen_output[gen_names]\n",
    "\n",
    "    # Normalize their share of total generation\n",
    "    gen_share = gen_contrib.div(gen_contrib.sum(axis=1), axis=0)\n",
    "\n",
    "    # Estimate how much each generator powered heat pumps\n",
    "    fuel_contribution = gen_share.mul(total_hp_input, axis=0)\n",
    "\n",
    "    print(f\"Region {bus}:\")\n",
    "    print(fuel_contribution.sum())\n"
   ]
  },
  {
   "cell_type": "code",
   "execution_count": null,
   "id": "cd430212",
   "metadata": {},
   "outputs": [],
   "source": [
    "import matplotlib.pyplot as plt\n",
    "\n",
    "# Sum over all hours to get annual contributions\n",
    "total_contribution = fuel_contribution.sum()\n",
    "\n",
    "# Pie chart\n",
    "total_contribution.plot(kind='pie', autopct='%1.1f%%', startangle=99)\n",
    "plt.title(f\"Fuel mix for heat pumps at {bus}\")\n",
    "plt.ylabel(\"\")\n",
    "plt.tight_layout()\n",
    "plt.show()\n"
   ]
  }
 ],
 "metadata": {
  "language_info": {
   "name": "python"
  }
 },
 "nbformat": 4,
 "nbformat_minor": 5
}
