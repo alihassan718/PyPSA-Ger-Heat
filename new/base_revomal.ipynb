{
 "cells": [
  {
   "cell_type": "code",
   "execution_count": 3,
   "id": "af80ad4a",
   "metadata": {},
   "outputs": [
    {
     "name": "stderr",
     "output_type": "stream",
     "text": [
      "C:\\Users\\86435\\AppData\\Local\\Temp\\ipykernel_14140\\4231341126.py:29: FutureWarning: Using the level keyword in DataFrame and Series aggregations is deprecated and will be removed in a future version. Use groupby instead. df.sum(level=1) should use df.groupby(level=1).sum().\n",
      "  df = dat.groupby(['year_removed', 'bus', 'carrier']).sum().sum(level=['year_removed', 'bus', 'carrier']).unstack('year_removed').fillna(0).reset_index()\n",
      "C:\\Users\\86435\\AppData\\Local\\Temp\\ipykernel_14140\\4231341126.py:29: FutureWarning: Using the level keyword in DataFrame and Series aggregations is deprecated and will be removed in a future version. Use groupby instead. df.sum(level=1) should use df.groupby(level=1).sum().\n",
      "  df = dat.groupby(['year_removed', 'bus', 'carrier']).sum().sum(level=['year_removed', 'bus', 'carrier']).unstack('year_removed').fillna(0).reset_index()\n",
      "C:\\Users\\86435\\AppData\\Local\\Temp\\ipykernel_14140\\4231341126.py:29: FutureWarning: Using the level keyword in DataFrame and Series aggregations is deprecated and will be removed in a future version. Use groupby instead. df.sum(level=1) should use df.groupby(level=1).sum().\n",
      "  df = dat.groupby(['year_removed', 'bus', 'carrier']).sum().sum(level=['year_removed', 'bus', 'carrier']).unstack('year_removed').fillna(0).reset_index()\n",
      "C:\\Users\\86435\\AppData\\Local\\Temp\\ipykernel_14140\\4231341126.py:29: FutureWarning: Using the level keyword in DataFrame and Series aggregations is deprecated and will be removed in a future version. Use groupby instead. df.sum(level=1) should use df.groupby(level=1).sum().\n",
      "  df = dat.groupby(['year_removed', 'bus', 'carrier']).sum().sum(level=['year_removed', 'bus', 'carrier']).unstack('year_removed').fillna(0).reset_index()\n",
      "C:\\Users\\86435\\AppData\\Local\\Temp\\ipykernel_14140\\4231341126.py:29: FutureWarning: Using the level keyword in DataFrame and Series aggregations is deprecated and will be removed in a future version. Use groupby instead. df.sum(level=1) should use df.groupby(level=1).sum().\n",
      "  df = dat.groupby(['year_removed', 'bus', 'carrier']).sum().sum(level=['year_removed', 'bus', 'carrier']).unstack('year_removed').fillna(0).reset_index()\n",
      "C:\\Users\\86435\\AppData\\Local\\Temp\\ipykernel_14140\\4231341126.py:29: FutureWarning: Using the level keyword in DataFrame and Series aggregations is deprecated and will be removed in a future version. Use groupby instead. df.sum(level=1) should use df.groupby(level=1).sum().\n",
      "  df = dat.groupby(['year_removed', 'bus', 'carrier']).sum().sum(level=['year_removed', 'bus', 'carrier']).unstack('year_removed').fillna(0).reset_index()\n",
      "C:\\Users\\86435\\AppData\\Local\\Temp\\ipykernel_14140\\4231341126.py:29: FutureWarning: Using the level keyword in DataFrame and Series aggregations is deprecated and will be removed in a future version. Use groupby instead. df.sum(level=1) should use df.groupby(level=1).sum().\n",
      "  df = dat.groupby(['year_removed', 'bus', 'carrier']).sum().sum(level=['year_removed', 'bus', 'carrier']).unstack('year_removed').fillna(0).reset_index()\n",
      "C:\\Users\\86435\\AppData\\Local\\Temp\\ipykernel_14140\\4231341126.py:29: FutureWarning: Using the level keyword in DataFrame and Series aggregations is deprecated and will be removed in a future version. Use groupby instead. df.sum(level=1) should use df.groupby(level=1).sum().\n",
      "  df = dat.groupby(['year_removed', 'bus', 'carrier']).sum().sum(level=['year_removed', 'bus', 'carrier']).unstack('year_removed').fillna(0).reset_index()\n",
      "C:\\Users\\86435\\AppData\\Local\\Temp\\ipykernel_14140\\4231341126.py:29: FutureWarning: Using the level keyword in DataFrame and Series aggregations is deprecated and will be removed in a future version. Use groupby instead. df.sum(level=1) should use df.groupby(level=1).sum().\n",
      "  df = dat.groupby(['year_removed', 'bus', 'carrier']).sum().sum(level=['year_removed', 'bus', 'carrier']).unstack('year_removed').fillna(0).reset_index()\n",
      "C:\\Users\\86435\\AppData\\Local\\Temp\\ipykernel_14140\\4231341126.py:29: FutureWarning: Using the level keyword in DataFrame and Series aggregations is deprecated and will be removed in a future version. Use groupby instead. df.sum(level=1) should use df.groupby(level=1).sum().\n",
      "  df = dat.groupby(['year_removed', 'bus', 'carrier']).sum().sum(level=['year_removed', 'bus', 'carrier']).unstack('year_removed').fillna(0).reset_index()\n",
      "C:\\Users\\86435\\AppData\\Local\\Temp\\ipykernel_14140\\4231341126.py:29: FutureWarning: Using the level keyword in DataFrame and Series aggregations is deprecated and will be removed in a future version. Use groupby instead. df.sum(level=1) should use df.groupby(level=1).sum().\n",
      "  df = dat.groupby(['year_removed', 'bus', 'carrier']).sum().sum(level=['year_removed', 'bus', 'carrier']).unstack('year_removed').fillna(0).reset_index()\n",
      "C:\\Users\\86435\\AppData\\Local\\Temp\\ipykernel_14140\\4231341126.py:29: FutureWarning: Using the level keyword in DataFrame and Series aggregations is deprecated and will be removed in a future version. Use groupby instead. df.sum(level=1) should use df.groupby(level=1).sum().\n",
      "  df = dat.groupby(['year_removed', 'bus', 'carrier']).sum().sum(level=['year_removed', 'bus', 'carrier']).unstack('year_removed').fillna(0).reset_index()\n",
      "C:\\Users\\86435\\AppData\\Local\\Temp\\ipykernel_14140\\4231341126.py:29: FutureWarning: Using the level keyword in DataFrame and Series aggregations is deprecated and will be removed in a future version. Use groupby instead. df.sum(level=1) should use df.groupby(level=1).sum().\n",
      "  df = dat.groupby(['year_removed', 'bus', 'carrier']).sum().sum(level=['year_removed', 'bus', 'carrier']).unstack('year_removed').fillna(0).reset_index()\n",
      "C:\\Users\\86435\\AppData\\Local\\Temp\\ipykernel_14140\\4231341126.py:29: FutureWarning: Using the level keyword in DataFrame and Series aggregations is deprecated and will be removed in a future version. Use groupby instead. df.sum(level=1) should use df.groupby(level=1).sum().\n",
      "  df = dat.groupby(['year_removed', 'bus', 'carrier']).sum().sum(level=['year_removed', 'bus', 'carrier']).unstack('year_removed').fillna(0).reset_index()\n",
      "C:\\Users\\86435\\AppData\\Local\\Temp\\ipykernel_14140\\4231341126.py:29: FutureWarning: Using the level keyword in DataFrame and Series aggregations is deprecated and will be removed in a future version. Use groupby instead. df.sum(level=1) should use df.groupby(level=1).sum().\n",
      "  df = dat.groupby(['year_removed', 'bus', 'carrier']).sum().sum(level=['year_removed', 'bus', 'carrier']).unstack('year_removed').fillna(0).reset_index()\n",
      "C:\\Users\\86435\\AppData\\Local\\Temp\\ipykernel_14140\\4231341126.py:29: FutureWarning: Using the level keyword in DataFrame and Series aggregations is deprecated and will be removed in a future version. Use groupby instead. df.sum(level=1) should use df.groupby(level=1).sum().\n",
      "  df = dat.groupby(['year_removed', 'bus', 'carrier']).sum().sum(level=['year_removed', 'bus', 'carrier']).unstack('year_removed').fillna(0).reset_index()\n",
      "C:\\Users\\86435\\AppData\\Local\\Temp\\ipykernel_14140\\4231341126.py:29: FutureWarning: Using the level keyword in DataFrame and Series aggregations is deprecated and will be removed in a future version. Use groupby instead. df.sum(level=1) should use df.groupby(level=1).sum().\n",
      "  df = dat.groupby(['year_removed', 'bus', 'carrier']).sum().sum(level=['year_removed', 'bus', 'carrier']).unstack('year_removed').fillna(0).reset_index()\n",
      "C:\\Users\\86435\\AppData\\Local\\Temp\\ipykernel_14140\\4231341126.py:29: FutureWarning: Using the level keyword in DataFrame and Series aggregations is deprecated and will be removed in a future version. Use groupby instead. df.sum(level=1) should use df.groupby(level=1).sum().\n",
      "  df = dat.groupby(['year_removed', 'bus', 'carrier']).sum().sum(level=['year_removed', 'bus', 'carrier']).unstack('year_removed').fillna(0).reset_index()\n",
      "C:\\Users\\86435\\AppData\\Local\\Temp\\ipykernel_14140\\4231341126.py:29: FutureWarning: Using the level keyword in DataFrame and Series aggregations is deprecated and will be removed in a future version. Use groupby instead. df.sum(level=1) should use df.groupby(level=1).sum().\n",
      "  df = dat.groupby(['year_removed', 'bus', 'carrier']).sum().sum(level=['year_removed', 'bus', 'carrier']).unstack('year_removed').fillna(0).reset_index()\n",
      "C:\\Users\\86435\\AppData\\Local\\Temp\\ipykernel_14140\\4231341126.py:29: FutureWarning: Using the level keyword in DataFrame and Series aggregations is deprecated and will be removed in a future version. Use groupby instead. df.sum(level=1) should use df.groupby(level=1).sum().\n",
      "  df = dat.groupby(['year_removed', 'bus', 'carrier']).sum().sum(level=['year_removed', 'bus', 'carrier']).unstack('year_removed').fillna(0).reset_index()\n",
      "C:\\Users\\86435\\AppData\\Local\\Temp\\ipykernel_14140\\4231341126.py:29: FutureWarning: Using the level keyword in DataFrame and Series aggregations is deprecated and will be removed in a future version. Use groupby instead. df.sum(level=1) should use df.groupby(level=1).sum().\n",
      "  df = dat.groupby(['year_removed', 'bus', 'carrier']).sum().sum(level=['year_removed', 'bus', 'carrier']).unstack('year_removed').fillna(0).reset_index()\n",
      "C:\\Users\\86435\\AppData\\Local\\Temp\\ipykernel_14140\\4231341126.py:29: FutureWarning: Using the level keyword in DataFrame and Series aggregations is deprecated and will be removed in a future version. Use groupby instead. df.sum(level=1) should use df.groupby(level=1).sum().\n",
      "  df = dat.groupby(['year_removed', 'bus', 'carrier']).sum().sum(level=['year_removed', 'bus', 'carrier']).unstack('year_removed').fillna(0).reset_index()\n",
      "C:\\Users\\86435\\AppData\\Local\\Temp\\ipykernel_14140\\4231341126.py:29: FutureWarning: Using the level keyword in DataFrame and Series aggregations is deprecated and will be removed in a future version. Use groupby instead. df.sum(level=1) should use df.groupby(level=1).sum().\n",
      "  df = dat.groupby(['year_removed', 'bus', 'carrier']).sum().sum(level=['year_removed', 'bus', 'carrier']).unstack('year_removed').fillna(0).reset_index()\n",
      "C:\\Users\\86435\\AppData\\Local\\Temp\\ipykernel_14140\\4231341126.py:29: FutureWarning: Using the level keyword in DataFrame and Series aggregations is deprecated and will be removed in a future version. Use groupby instead. df.sum(level=1) should use df.groupby(level=1).sum().\n",
      "  df = dat.groupby(['year_removed', 'bus', 'carrier']).sum().sum(level=['year_removed', 'bus', 'carrier']).unstack('year_removed').fillna(0).reset_index()\n",
      "C:\\Users\\86435\\AppData\\Local\\Temp\\ipykernel_14140\\4231341126.py:29: FutureWarning: Using the level keyword in DataFrame and Series aggregations is deprecated and will be removed in a future version. Use groupby instead. df.sum(level=1) should use df.groupby(level=1).sum().\n",
      "  df = dat.groupby(['year_removed', 'bus', 'carrier']).sum().sum(level=['year_removed', 'bus', 'carrier']).unstack('year_removed').fillna(0).reset_index()\n"
     ]
    }
   ],
   "source": [
    "# -*- coding: utf-8 -*-\n",
    "\"\"\"\n",
    "Created on Thu Jun 26 16:42:46 2025\n",
    "\n",
    "@author: 86435\n",
    "\"\"\"\n",
    "import os\n",
    "import pandas as pd\n",
    "import numpy as np\n",
    "\n",
    "\n",
    "data = pd.read_csv(\"D:/project_h2/data/heating_techs/Biomass_Heating_Technologies.csv\")\n",
    "\n",
    "\n",
    "# Remove ' heat' from bus names\n",
    "data['bus'] = data['bus'].str.replace(' heat', '', regex=False)\n",
    "\n",
    "# Prepare data for removal file\n",
    "data.rename(columns={'decommissioning_year': 'year_removed'}, inplace=True)\n",
    "removal = data[['year_removed', 'carrier', 'p_nom', 'bus']]\n",
    "\n",
    "\n",
    "# Group and process the data for each removal year\n",
    "years_res = sorted(removal.year_removed.unique())\n",
    "remove = pd.DataFrame(columns=removal.columns)\n",
    "\n",
    "for yr in years_res:\n",
    "    dat = removal[removal.year_removed == yr]\n",
    "    df = dat.groupby(['year_removed', 'bus', 'carrier']).sum().sum(level=['year_removed', 'bus', 'carrier']).unstack('year_removed').fillna(0).reset_index()\n",
    "    df['year'] = df.columns[2][1]\n",
    "    df.columns = ['bus', 'carrier', 'p_nom', 'year_removed']\n",
    "    remove = pd.concat([df, remove], ignore_index=False)\n",
    "\n",
    "# Final formatting and save\n",
    "remove.index = remove.bus + ' ' + remove.carrier\n",
    "output_path = \"D:/project_h2/data/heating_techs/biomass_heat_basic_removal.csv\"\n",
    "remove.to_csv(output_path)\n",
    "\n",
    "\n"
   ]
  },
  {
   "cell_type": "markdown",
   "id": "1ec25a09",
   "metadata": {},
   "source": [
    "1. Aggregate the total removal capacity per bus and carrier:"
   ]
  },
  {
   "cell_type": "code",
   "execution_count": 4,
   "id": "cdcea13c",
   "metadata": {},
   "outputs": [],
   "source": [
    "correct = remove.groupby(['carrier', 'bus']).agg({'p_nom': ['sum']})\n",
    "correct = correct.stack().reset_index()\n",
    "correct = correct[['carrier', 'p_nom', 'bus']]\n",
    "correct.index = correct.bus + ' ' + correct.carrier\n"
   ]
  },
  {
   "cell_type": "code",
   "execution_count": 5,
   "id": "80025bdc",
   "metadata": {},
   "outputs": [
    {
     "data": {
      "text/html": [
       "<div>\n",
       "<style scoped>\n",
       "    .dataframe tbody tr th:only-of-type {\n",
       "        vertical-align: middle;\n",
       "    }\n",
       "\n",
       "    .dataframe tbody tr th {\n",
       "        vertical-align: top;\n",
       "    }\n",
       "\n",
       "    .dataframe thead th {\n",
       "        text-align: right;\n",
       "    }\n",
       "</style>\n",
       "<table border=\"1\" class=\"dataframe\">\n",
       "  <thead>\n",
       "    <tr style=\"text-align: right;\">\n",
       "      <th></th>\n",
       "      <th>carrier</th>\n",
       "      <th>p_nom</th>\n",
       "      <th>bus</th>\n",
       "    </tr>\n",
       "  </thead>\n",
       "  <tbody>\n",
       "    <tr>\n",
       "      <th>DE0 2 biomass</th>\n",
       "      <td>biomass</td>\n",
       "      <td>6386.18</td>\n",
       "      <td>DE0 2</td>\n",
       "    </tr>\n",
       "    <tr>\n",
       "      <th>DE0 9 biomass</th>\n",
       "      <td>biomass</td>\n",
       "      <td>3999.30</td>\n",
       "      <td>DE0 9</td>\n",
       "    </tr>\n",
       "    <tr>\n",
       "      <th>DE0 A biomass</th>\n",
       "      <td>biomass</td>\n",
       "      <td>7686.63</td>\n",
       "      <td>DE0 A</td>\n",
       "    </tr>\n",
       "    <tr>\n",
       "      <th>DE0 E biomass</th>\n",
       "      <td>biomass</td>\n",
       "      <td>3805.48</td>\n",
       "      <td>DE0 E</td>\n",
       "    </tr>\n",
       "  </tbody>\n",
       "</table>\n",
       "</div>"
      ],
      "text/plain": [
       "               carrier    p_nom    bus\n",
       "DE0 2 biomass  biomass  6386.18  DE0 2\n",
       "DE0 9 biomass  biomass  3999.30  DE0 9\n",
       "DE0 A biomass  biomass  7686.63  DE0 A\n",
       "DE0 E biomass  biomass  3805.48  DE0 E"
      ]
     },
     "execution_count": 5,
     "metadata": {},
     "output_type": "execute_result"
    }
   ],
   "source": [
    "correct"
   ]
  },
  {
   "cell_type": "markdown",
   "id": "f9d4985e",
   "metadata": {},
   "source": [
    "2. Ensure a biomass generator exists for each bus-carrier combo, and correct its capacity:\n"
   ]
  },
  {
   "cell_type": "code",
   "execution_count": null,
   "id": "a481a902",
   "metadata": {},
   "outputs": [],
   "source": [
    "n.generators.loc[i, 'p_nom'] = correct.loc[i, 'p_nom']\n"
   ]
  },
  {
   "cell_type": "markdown",
   "id": "47fa5d81",
   "metadata": {},
   "source": [
    "4. Remove any biomass generator that is not in the removal plan:"
   ]
  },
  {
   "cell_type": "code",
   "execution_count": null,
   "id": "436b00d9",
   "metadata": {},
   "outputs": [],
   "source": [
    "car = 'biomass'\n",
    "mo = set(n.generators.loc[n.generators.carrier == car, 'bus'])\n",
    "ac = set(remove.loc[remove.carrier == car, 'bus'])\n",
    "\n",
    "for item in list(mo.difference(ac)):\n",
    "    n.remove('Generator', f'{item} {car}')\n"
   ]
  },
  {
   "cell_type": "code",
   "execution_count": 13,
   "id": "58172237",
   "metadata": {},
   "outputs": [],
   "source": [
    "df=remove\n",
    "# Biomass burner properties\n",
    "biomass_efficiency = 0.85\n",
    "biomass_vom = 50    # Variable operation cost [€/MWh]\n",
    "biomass_fom = 0.03  # Fixed O&M cost share\n",
    "biomass_capex = 1200  # €/kW\n",
    "lifetime = 20\n",
    "discount_rate = 0.07  # assumed\n",
    "\n",
    "# Calculate annuity\n",
    "annuity = discount_rate / (1 - 1 / (1 + discount_rate)**lifetime)\n",
    "\n",
    "for i in df.index:\n",
    "    row = df.loc[i]\n",
    "    bus_ac = row[\"bus\"]  # e.g., \"DE09\"\n",
    "    bus_heat = f\"{bus_ac} heat\"\n",
    "    tech = \"biomass_burner\"\n",
    "\n",
    "    link_name = f\"{bus_ac} {tech}\""
   ]
  },
  {
   "cell_type": "code",
   "execution_count": null,
   "id": "d7c060f7",
   "metadata": {},
   "outputs": [
    {
     "data": {
      "text/plain": [
       "(DE0 E biomass    DE0 E\n",
       " DE0 E biomass    DE0 E\n",
       " DE0 E biomass    DE0 E\n",
       " DE0 E biomass    DE0 E\n",
       " DE0 E biomass    DE0 E\n",
       " DE0 E biomass    DE0 E\n",
       " DE0 E biomass    DE0 E\n",
       " DE0 E biomass    DE0 E\n",
       " DE0 E biomass    DE0 E\n",
       " DE0 E biomass    DE0 E\n",
       " DE0 E biomass    DE0 E\n",
       " DE0 E biomass    DE0 E\n",
       " DE0 E biomass    DE0 E\n",
       " DE0 E biomass    DE0 E\n",
       " Name: bus, dtype: object,\n",
       "                  bus  carrier   p_nom year_removed\n",
       " DE0 E biomass  DE0 E  biomass  271.82         2045\n",
       " DE0 E biomass  DE0 E  biomass  271.82         2043\n",
       " DE0 E biomass  DE0 E  biomass  271.82         2041\n",
       " DE0 E biomass  DE0 E  biomass  271.82         2039\n",
       " DE0 E biomass  DE0 E  biomass  271.82         2037\n",
       " DE0 E biomass  DE0 E  biomass  271.82         2035\n",
       " DE0 E biomass  DE0 E  biomass  271.82         2033\n",
       " DE0 E biomass  DE0 E  biomass  271.82         2032\n",
       " DE0 E biomass  DE0 E  biomass  271.82         2030\n",
       " DE0 E biomass  DE0 E  biomass  271.82         2028\n",
       " DE0 E biomass  DE0 E  biomass  271.82         2026\n",
       " DE0 E biomass  DE0 E  biomass  271.82         2024\n",
       " DE0 E biomass  DE0 E  biomass  271.82         2022\n",
       " DE0 E biomass  DE0 E  biomass  271.82         2021,\n",
       " 'DE0 E biomass    DE0 E\\nDE0 E biomass    DE0 E\\nDE0 E biomass    DE0 E\\nDE0 E biomass    DE0 E\\nDE0 E biomass    DE0 E\\nDE0 E biomass    DE0 E\\nDE0 E biomass    DE0 E\\nDE0 E biomass    DE0 E\\nDE0 E biomass    DE0 E\\nDE0 E biomass    DE0 E\\nDE0 E biomass    DE0 E\\nDE0 E biomass    DE0 E\\nDE0 E biomass    DE0 E\\nDE0 E biomass    DE0 E\\nName: bus, dtype: object heat')"
      ]
     },
     "execution_count": 17,
     "metadata": {},
     "output_type": "execute_result"
    }
   ],
   "source": [
    "bus_ac, row"
   ]
  },
  {
   "cell_type": "code",
   "execution_count": 18,
   "id": "03c69bbb",
   "metadata": {},
   "outputs": [
    {
     "data": {
      "text/plain": [
       "'DE0 E biomass    DE0 E\\nDE0 E biomass    DE0 E\\nDE0 E biomass    DE0 E\\nDE0 E biomass    DE0 E\\nDE0 E biomass    DE0 E\\nDE0 E biomass    DE0 E\\nDE0 E biomass    DE0 E\\nDE0 E biomass    DE0 E\\nDE0 E biomass    DE0 E\\nDE0 E biomass    DE0 E\\nDE0 E biomass    DE0 E\\nDE0 E biomass    DE0 E\\nDE0 E biomass    DE0 E\\nDE0 E biomass    DE0 E\\nName: bus, dtype: object heat'"
      ]
     },
     "execution_count": 18,
     "metadata": {},
     "output_type": "execute_result"
    }
   ],
   "source": [
    "bus_heat"
   ]
  },
  {
   "cell_type": "code",
   "execution_count": null,
   "id": "3d7f901a",
   "metadata": {},
   "outputs": [],
   "source": []
  }
 ],
 "metadata": {
  "kernelspec": {
   "display_name": "mypypsa",
   "language": "python",
   "name": "python3"
  },
  "language_info": {
   "codemirror_mode": {
    "name": "ipython",
    "version": 3
   },
   "file_extension": ".py",
   "mimetype": "text/x-python",
   "name": "python",
   "nbconvert_exporter": "python",
   "pygments_lexer": "ipython3",
   "version": "3.10.11"
  }
 },
 "nbformat": 4,
 "nbformat_minor": 5
}
