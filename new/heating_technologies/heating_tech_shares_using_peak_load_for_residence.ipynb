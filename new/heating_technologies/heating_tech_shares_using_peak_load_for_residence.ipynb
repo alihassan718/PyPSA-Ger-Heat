{
 "cells": [
  {
   "cell_type": "code",
   "execution_count": null,
   "id": "8c0de901",
   "metadata": {},
   "outputs": [],
   "source": [
    "peak_heat_demand_MW = 276_447\n",
    "\n",
    "# Shares (as fractions)\n",
    "shares = {\n",
    "    \"natural_gas\": 0.50,\n",
    "    \"oil\": 0.25,\n",
    "    \"district_heating\": 0.14,\n",
    "    \"biomass\": 0.10,\n",
    "    \"heat_pump\": 0.04\n",
    "}\n",
    "\n",
    "# Calculate p_nom_max for each tech (in MW)\n",
    "p_nom_max_values = {tech: share * peak_heat_demand_MW for tech, share in shares.items()}\n",
    "\n",
    "# Print results\n",
    "for tech, p_nom_max in p_nom_max_values.items():\n",
    "    print(f\"{tech}: {p_nom_max:.2f} MW\")\n"
   ]
  },
  {
   "cell_type": "markdown",
   "id": "0da9d997",
   "metadata": {},
   "source": [
    "Technology\tp_nom_max (MW)\n",
    "Natural Gas\t~138,224 MW\n",
    "Oil\t~69,112 MW\n",
    "District Heating\t~38,703 MW\n",
    "Biomass\t~27,644 MW\n",
    "Heat Pumps\t~11,058 MW"
   ]
  }
 ],
 "metadata": {
  "language_info": {
   "name": "python"
  }
 },
 "nbformat": 4,
 "nbformat_minor": 5
}
