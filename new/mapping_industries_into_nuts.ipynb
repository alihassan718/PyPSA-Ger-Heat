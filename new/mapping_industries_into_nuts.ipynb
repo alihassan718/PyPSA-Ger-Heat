{
 "cells": [
  {
   "cell_type": "code",
   "execution_count": 3,
   "id": "fd753efb",
   "metadata": {},
   "outputs": [],
   "source": [
    "import pandas as pd\n",
    "import geopandas as gpd\n",
    "import seaborn as sns\n",
    "import matplotlib.pyplot as plt\n",
    "\n",
    "from shapely.wkt import loads as wkt_loads"
   ]
  },
  {
   "cell_type": "markdown",
   "id": "ed1ecf0b",
   "metadata": {},
   "source": [
    "in this profile, we got nut3_2013 from NUTS folder saved in data, and we loaded the hotmaps_industrial database\n",
    "then we changed both of them to geodataframe, and used code 4326\n",
    "then mapped both files on geometry, so that each industry has its nuts_id now\n",
    "at the end i combined nuts3 to nuts2, and now i have number of indutries sectorwise in each 4 clusters, "
   ]
  },
  {
   "cell_type": "code",
   "execution_count": 4,
   "id": "bbd69e2b",
   "metadata": {},
   "outputs": [],
   "source": [
    "\n",
    "\n",
    "# Path to your CSV file\n",
    "file_path = \"C:/Users/86435/project_h2/data/heat_demand/industry/for_weights/Industrial_Database_hotmaps.csv\"\n",
    "\n",
    "# Load using semicolon (;) as delimiter\n",
    "df_industrial_db = pd.read_csv(file_path, delimiter=';')\n",
    "\n",
    "df = df_industrial_db[df_industrial_db['Country'] == 'Germany'].copy()\n",
    "\n",
    "# Step 2: Filter out rows with invalid or missing geom values\n",
    "df_valid = df[df['geom'].apply(lambda x: isinstance(x, str))].copy()\n",
    "\n",
    "# Step 3: Convert WKT geom to shapely geometry\n",
    "df_valid['geometry'] = df_valid['geom'].str.replace('SRID=4326;', '', regex=False).apply(wkt_loads)\n",
    "\n",
    "# Step 4: Create GeoDataFrame\n",
    "\n",
    "gdf_industry = gpd.GeoDataFrame(df_valid, geometry='geometry', crs='EPSG:4326')  # starts as lat/lon\n",
    "\n"
   ]
  },
  {
   "cell_type": "code",
   "execution_count": 5,
   "id": "42bed4d2",
   "metadata": {},
   "outputs": [],
   "source": [
    "# setting up nuts for NUTS3_2013 file\n",
    "file_path1 = \"C:/Users/86435/project_h2/data/NUTS/NUTS3_2013.csv\"\n",
    "nuts = pd.read_csv(file_path1)\n",
    "\n",
    "df_nuts = nuts[nuts['NUTS_ID'].str.startswith('DE')].copy()\n",
    "# Load NUTS polygons\n",
    "df_nuts['geometry'] = df_nuts['WKT'].apply(wkt_loads)\n",
    "gdf_nuts = gpd.GeoDataFrame(df_nuts, geometry='geometry', crs='EPSG:3035')\n",
    "gdf_nuts['geometry'] = gdf_nuts['geometry'].buffer(0)  # Fix invalid geometries\n",
    "gdf_nuts = gdf_nuts.to_crs(epsg=4326)\n",
    "\n"
   ]
  },
  {
   "cell_type": "code",
   "execution_count": 6,
   "id": "d6ffb873",
   "metadata": {},
   "outputs": [
    {
     "name": "stdout",
     "output_type": "stream",
     "text": [
      "Point is in NUTS region: DE11D\n"
     ]
    }
   ],
   "source": [
    "point = gdf_industry.geometry.iloc[0]\n",
    "\n",
    "for i, row in gdf_nuts.iterrows():\n",
    "    if row['geometry'].contains(point):\n",
    "        print(f\"Point is in NUTS region: {row['NUTS_ID']}\")\n",
    "        break\n",
    "else:\n",
    "    print(\"No matching polygon found for this point.\")\n"
   ]
  },
  {
   "cell_type": "code",
   "execution_count": 7,
   "id": "67496dff",
   "metadata": {},
   "outputs": [],
   "source": [
    "# Perform spatial join to assign NUTS_ID\n",
    "gdf_joined = gpd.sjoin(\n",
    "    gdf_industry,\n",
    "    gdf_nuts[['NUTS_ID', 'geometry']],\n",
    "    how='left',\n",
    "    predicate='within'\n",
    ")"
   ]
  },
  {
   "cell_type": "markdown",
   "id": "574a2cfd",
   "metadata": {},
   "source": [
    "prep for 4 clusters\n"
   ]
  },
  {
   "cell_type": "code",
   "execution_count": 34,
   "id": "2798b7d1",
   "metadata": {},
   "outputs": [],
   "source": [
    "# Keep only the relevant columns\n",
    "df_cleaned = gdf_joined[['CompanyName', 'Subsector', 'Emissions_ETS_2014', 'Production', 'Fuel_Demand', 'NUTS_ID']].copy()\n",
    "\n",
    "# Set NUTS_ID as the index\n",
    "df_cleaned.set_index('NUTS_ID', inplace=True)"
   ]
  },
  {
   "cell_type": "code",
   "execution_count": 35,
   "id": "b8edb195",
   "metadata": {},
   "outputs": [
    {
     "data": {
      "text/plain": [
       "Index(['CompanyName', 'Subsector', 'Emissions_ETS_2014', 'Production',\n",
       "       'Fuel_Demand'],\n",
       "      dtype='object')"
      ]
     },
     "execution_count": 35,
     "metadata": {},
     "output_type": "execute_result"
    }
   ],
   "source": [
    "df_cleaned.columns"
   ]
  },
  {
   "cell_type": "code",
   "execution_count": 36,
   "id": "7df39d44",
   "metadata": {},
   "outputs": [],
   "source": [
    "# Cluster mapping dictionary\n",
    "CLUSTER_MAP = {\n",
    "    'DE9': ['DE5', 'DE6', 'DE8', 'DE9', 'DEF'],\n",
    "    'DEA': ['DE7', 'DEA', 'DEB', 'DEC'],\n",
    "    'DE2': ['DE1', 'DE2'],\n",
    "    'DEE': ['DE3', 'DE4', 'DED', 'DEE', 'DEG'],\n",
    "}\n",
    "\n",
    "# Reverse map: prefix -> cluster\n",
    "prefix_to_cluster = {prefix: cluster for cluster, prefixes in CLUSTER_MAP.items() for prefix in prefixes}\n",
    "\n",
    "# Function to match NUTS_ID to cluster\n",
    "def assign_cluster(nuts_id):\n",
    "    if pd.isna(nuts_id):\n",
    "        return None\n",
    "    for prefix in prefix_to_cluster:\n",
    "        if nuts_id.startswith(prefix):\n",
    "            return prefix_to_cluster[prefix]\n",
    "    return 'Other'\n",
    "\n",
    "# Apply to DataFrame\n",
    "df_cleaned['Cluster'] = df_cleaned.index.to_series().apply(assign_cluster)\n"
   ]
  },
  {
   "cell_type": "code",
   "execution_count": 37,
   "id": "66865d56",
   "metadata": {},
   "outputs": [
    {
     "data": {
      "text/plain": [
       "DEA    332\n",
       "DE2    180\n",
       "DEE    140\n",
       "DE9    108\n",
       "Name: Cluster, dtype: int64"
      ]
     },
     "execution_count": 37,
     "metadata": {},
     "output_type": "execute_result"
    }
   ],
   "source": [
    "\n",
    "# Preview result\n",
    "df_cleaned['Cluster'].value_counts()"
   ]
  },
  {
   "cell_type": "code",
   "execution_count": 44,
   "id": "2a553934",
   "metadata": {},
   "outputs": [
    {
     "data": {
      "text/plain": [
       "Index(['CompanyName', 'Subsector', 'Emissions_ETS_2014', 'Production',\n",
       "       'Fuel_Demand', 'Cluster'],\n",
       "      dtype='object')"
      ]
     },
     "execution_count": 44,
     "metadata": {},
     "output_type": "execute_result"
    }
   ],
   "source": [
    "df_cleaned.columns"
   ]
  }
 ],
 "metadata": {
  "kernelspec": {
   "display_name": "myenv",
   "language": "python",
   "name": "python3"
  },
  "language_info": {
   "codemirror_mode": {
    "name": "ipython",
    "version": 3
   },
   "file_extension": ".py",
   "mimetype": "text/x-python",
   "name": "python",
   "nbconvert_exporter": "python",
   "pygments_lexer": "ipython3",
   "version": "3.10.11"
  }
 },
 "nbformat": 4,
 "nbformat_minor": 5
}
